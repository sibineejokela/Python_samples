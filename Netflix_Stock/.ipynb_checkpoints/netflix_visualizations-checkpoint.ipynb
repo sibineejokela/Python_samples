{
 "cells": [
  {
   "cell_type": "markdown",
   "metadata": {},
   "source": [
    "# Introduction\n",
    "\n",
    "This project visualizes stock data from Yahoo Finance! to assess the risk of Netflix stock. In finance, a _stock profile_ is a series of studies, visualizations, and analyses that dive into different aspects a publicly traded company's data. The content and direction for the project comes from [Codecademy](https://www.codecademy.com/). \n",
    "\n",
    "For the purposes of the project, the following visualizations are created below:\n",
    "+ The distribution of the stock prices for the past year\n",
    "+ Netflix's earnings and revenue in the last four quarters\n",
    "+ The actual vs. estimated earnings per share for the four quarters in 2017\n",
    "+ A comparison of the Netflix Stock price vs the Dow Jones Industrial Average price in 2017 \n",
    "\n",
    "Note: The Dow Jones Industrial Average is used to compare the Netflix stock to the larter stock market. Learn more about why the Dow Jones Industrial Average is a general reflection of the larger stock market [here](https://www.investopedia.com/terms/d/djia.asp).\n",
    "\n",
    "Financial Data Source: [Yahoo Finance](https://finance.yahoo.com/quote/DATA/)\n"
   ]
  },
  {
   "cell_type": "markdown",
   "metadata": {},
   "source": [
    "## Step 1. Import modules"
   ]
  },
  {
   "cell_type": "code",
   "execution_count": 1,
   "metadata": {},
   "outputs": [],
   "source": [
    "from matplotlib import pyplot as plt\n",
    "import pandas as pd\n",
    "import seaborn as sns\n",
    "\n",
    "plt.style.use('seaborn-colorblind')"
   ]
  },
  {
   "cell_type": "markdown",
   "metadata": {},
   "source": [
    "## Step 2. Load datasets"
   ]
  },
  {
   "cell_type": "code",
   "execution_count": 2,
   "metadata": {},
   "outputs": [
    {
     "name": "stdout",
     "output_type": "stream",
     "text": [
      "         Date        Open        High         Low       Close   Adj Close  \\\n",
      "0  2017-01-01  124.959999  143.460007  124.309998  140.710007  140.710007   \n",
      "1  2017-02-01  141.199997  145.949997  139.050003  142.130005  142.130005   \n",
      "2  2017-03-01  142.839996  148.289993  138.259995  147.809998  147.809998   \n",
      "3  2017-04-01  146.699997  153.520004  138.660004  152.199997  152.199997   \n",
      "4  2017-05-01  151.910004  164.750000  151.610001  163.070007  163.070007   \n",
      "\n",
      "      Volume  \n",
      "0  181772200  \n",
      "1   91432000  \n",
      "2  110692700  \n",
      "3  149769200  \n",
      "4  116795800  \n"
     ]
    }
   ],
   "source": [
    "#load dataset 1 - Netflix stocks\n",
    "netflix_stocks = pd.read_csv('NFLX.csv')\n",
    "print(netflix_stocks.head())"
   ]
  },
  {
   "cell_type": "markdown",
   "metadata": {},
   "source": [
    "Note: In the Yahoo Data, `Adj Close` represents the adjusted close price adjusted for both dividends and splits. This means this is the true closing stock price for a given business day."
   ]
  },
  {
   "cell_type": "code",
   "execution_count": 3,
   "metadata": {},
   "outputs": [
    {
     "name": "stdout",
     "output_type": "stream",
     "text": [
      "         Date          Open          High           Low         Close  \\\n",
      "0  2017-01-01  19872.859375  20125.580078  19677.939453  19864.089844   \n",
      "1  2017-02-01  19923.810547  20851.330078  19831.089844  20812.240234   \n",
      "2  2017-03-01  20957.289063  21169.109375  20412.800781  20663.220703   \n",
      "3  2017-04-01  20665.169922  21070.900391  20379.550781  20940.509766   \n",
      "4  2017-05-01  20962.730469  21112.320313  20553.449219  21008.650391   \n",
      "\n",
      "      Adj Close      Volume  \n",
      "0  19864.089844  6482450000  \n",
      "1  20812.240234  6185580000  \n",
      "2  20663.220703  6941970000  \n",
      "3  20940.509766  5392630000  \n",
      "4  21008.650391  6613570000  \n"
     ]
    }
   ],
   "source": [
    "#load dataset 2 - Dow Jones stocks\n",
    "dowjones_stocks = pd.read_csv('DJI.csv')\n",
    "print(dowjones_stocks.head())"
   ]
  },
  {
   "cell_type": "markdown",
   "metadata": {},
   "source": [
    "Note: You can learn more about why the Dow Jones Industrial Average is a industry reflection of the larger stock market [here](https://www.investopedia.com/terms/d/djia.asp). \n"
   ]
  },
  {
   "cell_type": "code",
   "execution_count": 4,
   "metadata": {},
   "outputs": [
    {
     "name": "stdout",
     "output_type": "stream",
     "text": [
      "         Date        Open        High         Low       Close   Adj Close  \\\n",
      "0  2017-01-03  124.959999  128.190002  124.309998  127.489998  127.489998   \n",
      "1  2017-01-04  127.489998  130.169998  126.550003  129.410004  129.410004   \n",
      "2  2017-01-05  129.220001  132.750000  128.899994  131.809998  131.809998   \n",
      "3  2017-01-06  132.080002  133.880005  129.809998  131.070007  131.070007   \n",
      "4  2017-01-09  131.479996  131.990005  129.889999  130.949997  130.949997   \n",
      "\n",
      "     Volume Quarter  \n",
      "0   9437900      Q1  \n",
      "1   7843600      Q1  \n",
      "2  10185500      Q1  \n",
      "3  10657900      Q1  \n",
      "4   5766900      Q1  \n"
     ]
    }
   ],
   "source": [
    "#load dataset 3 - Netflix stocks by quarter\n",
    "netflix_stocks_quarterly = pd.read_csv('NFLX_daily_by_quarter.csv')\n",
    "print(netflix_stocks_quarterly.head())"
   ]
  },
  {
   "cell_type": "code",
   "execution_count": 5,
   "metadata": {},
   "outputs": [],
   "source": [
    "#rename the Adjusted Close title\n",
    "netflix_stocks.rename(columns={'Adj Close':'Adjusted_Close'}, inplace=True)\n",
    "dowjones_stocks.rename(columns={'Adj Close':'Adjusted_Close'}, inplace=True)\n",
    "netflix_stocks_quarterly.rename(columns={'Adj Close':'Adjusted_Close'}, inplace=True)"
   ]
  },
  {
   "cell_type": "markdown",
   "metadata": {},
   "source": [
    "## Step 3. Examine data"
   ]
  },
  {
   "cell_type": "markdown",
   "metadata": {},
   "source": [
    "#### Netflix"
   ]
  },
  {
   "cell_type": "code",
   "execution_count": 6,
   "metadata": {},
   "outputs": [
    {
     "data": {
      "text/plain": [
       "(12, 7)"
      ]
     },
     "execution_count": 6,
     "metadata": {},
     "output_type": "execute_result"
    }
   ],
   "source": [
    "netflix_stocks.shape"
   ]
  },
  {
   "cell_type": "code",
   "execution_count": 7,
   "metadata": {},
   "outputs": [
    {
     "name": "stdout",
     "output_type": "stream",
     "text": [
      "<class 'pandas.core.frame.DataFrame'>\n",
      "RangeIndex: 12 entries, 0 to 11\n",
      "Data columns (total 7 columns):\n",
      "Date              12 non-null object\n",
      "Open              12 non-null float64\n",
      "High              12 non-null float64\n",
      "Low               12 non-null float64\n",
      "Close             12 non-null float64\n",
      "Adjusted_Close    12 non-null float64\n",
      "Volume            12 non-null int64\n",
      "dtypes: float64(5), int64(1), object(1)\n",
      "memory usage: 800.0+ bytes\n"
     ]
    }
   ],
   "source": [
    "netflix_stocks.info()"
   ]
  },
  {
   "cell_type": "code",
   "execution_count": 8,
   "metadata": {},
   "outputs": [
    {
     "data": {
      "text/html": [
       "<div>\n",
       "<style scoped>\n",
       "    .dataframe tbody tr th:only-of-type {\n",
       "        vertical-align: middle;\n",
       "    }\n",
       "\n",
       "    .dataframe tbody tr th {\n",
       "        vertical-align: top;\n",
       "    }\n",
       "\n",
       "    .dataframe thead th {\n",
       "        text-align: right;\n",
       "    }\n",
       "</style>\n",
       "<table border=\"1\" class=\"dataframe\">\n",
       "  <thead>\n",
       "    <tr style=\"text-align: right;\">\n",
       "      <th></th>\n",
       "      <th>Open</th>\n",
       "      <th>High</th>\n",
       "      <th>Low</th>\n",
       "      <th>Close</th>\n",
       "      <th>Adjusted_Close</th>\n",
       "      <th>Volume</th>\n",
       "    </tr>\n",
       "  </thead>\n",
       "  <tbody>\n",
       "    <tr>\n",
       "      <td>count</td>\n",
       "      <td>12.000000</td>\n",
       "      <td>12.000000</td>\n",
       "      <td>12.000000</td>\n",
       "      <td>12.000000</td>\n",
       "      <td>12.000000</td>\n",
       "      <td>1.200000e+01</td>\n",
       "    </tr>\n",
       "    <tr>\n",
       "      <td>mean</td>\n",
       "      <td>162.109168</td>\n",
       "      <td>174.188333</td>\n",
       "      <td>154.949168</td>\n",
       "      <td>168.079169</td>\n",
       "      <td>168.079169</td>\n",
       "      <td>1.420596e+08</td>\n",
       "    </tr>\n",
       "    <tr>\n",
       "      <td>std</td>\n",
       "      <td>22.427309</td>\n",
       "      <td>22.889526</td>\n",
       "      <td>19.519561</td>\n",
       "      <td>21.298918</td>\n",
       "      <td>21.298918</td>\n",
       "      <td>3.597514e+07</td>\n",
       "    </tr>\n",
       "    <tr>\n",
       "      <td>min</td>\n",
       "      <td>124.959999</td>\n",
       "      <td>143.460007</td>\n",
       "      <td>124.309998</td>\n",
       "      <td>140.710007</td>\n",
       "      <td>140.710007</td>\n",
       "      <td>9.143200e+07</td>\n",
       "    </tr>\n",
       "    <tr>\n",
       "      <td>25%</td>\n",
       "      <td>145.734997</td>\n",
       "      <td>152.212501</td>\n",
       "      <td>138.952503</td>\n",
       "      <td>149.010003</td>\n",
       "      <td>149.010003</td>\n",
       "      <td>1.141848e+08</td>\n",
       "    </tr>\n",
       "    <tr>\n",
       "      <td>50%</td>\n",
       "      <td>157.715004</td>\n",
       "      <td>175.744995</td>\n",
       "      <td>149.455002</td>\n",
       "      <td>168.890007</td>\n",
       "      <td>168.890007</td>\n",
       "      <td>1.360994e+08</td>\n",
       "    </tr>\n",
       "    <tr>\n",
       "      <td>75%</td>\n",
       "      <td>182.205002</td>\n",
       "      <td>192.247501</td>\n",
       "      <td>173.475002</td>\n",
       "      <td>184.235005</td>\n",
       "      <td>184.235005</td>\n",
       "      <td>1.667328e+08</td>\n",
       "    </tr>\n",
       "    <tr>\n",
       "      <td>max</td>\n",
       "      <td>197.240005</td>\n",
       "      <td>204.380005</td>\n",
       "      <td>184.320007</td>\n",
       "      <td>196.429993</td>\n",
       "      <td>196.429993</td>\n",
       "      <td>2.086578e+08</td>\n",
       "    </tr>\n",
       "  </tbody>\n",
       "</table>\n",
       "</div>"
      ],
      "text/plain": [
       "             Open        High         Low       Close  Adjusted_Close  \\\n",
       "count   12.000000   12.000000   12.000000   12.000000       12.000000   \n",
       "mean   162.109168  174.188333  154.949168  168.079169      168.079169   \n",
       "std     22.427309   22.889526   19.519561   21.298918       21.298918   \n",
       "min    124.959999  143.460007  124.309998  140.710007      140.710007   \n",
       "25%    145.734997  152.212501  138.952503  149.010003      149.010003   \n",
       "50%    157.715004  175.744995  149.455002  168.890007      168.890007   \n",
       "75%    182.205002  192.247501  173.475002  184.235005      184.235005   \n",
       "max    197.240005  204.380005  184.320007  196.429993      196.429993   \n",
       "\n",
       "             Volume  \n",
       "count  1.200000e+01  \n",
       "mean   1.420596e+08  \n",
       "std    3.597514e+07  \n",
       "min    9.143200e+07  \n",
       "25%    1.141848e+08  \n",
       "50%    1.360994e+08  \n",
       "75%    1.667328e+08  \n",
       "max    2.086578e+08  "
      ]
     },
     "execution_count": 8,
     "metadata": {},
     "output_type": "execute_result"
    }
   ],
   "source": [
    "netflix_stocks.describe()"
   ]
  },
  {
   "cell_type": "markdown",
   "metadata": {},
   "source": [
    "#### Dow Jones"
   ]
  },
  {
   "cell_type": "code",
   "execution_count": 9,
   "metadata": {},
   "outputs": [
    {
     "data": {
      "text/plain": [
       "(12, 7)"
      ]
     },
     "execution_count": 9,
     "metadata": {},
     "output_type": "execute_result"
    }
   ],
   "source": [
    "dowjones_stocks.shape"
   ]
  },
  {
   "cell_type": "code",
   "execution_count": 10,
   "metadata": {},
   "outputs": [
    {
     "name": "stdout",
     "output_type": "stream",
     "text": [
      "<class 'pandas.core.frame.DataFrame'>\n",
      "RangeIndex: 12 entries, 0 to 11\n",
      "Data columns (total 7 columns):\n",
      "Date              12 non-null object\n",
      "Open              12 non-null float64\n",
      "High              12 non-null float64\n",
      "Low               12 non-null float64\n",
      "Close             12 non-null float64\n",
      "Adjusted_Close    12 non-null float64\n",
      "Volume            12 non-null int64\n",
      "dtypes: float64(5), int64(1), object(1)\n",
      "memory usage: 800.0+ bytes\n"
     ]
    }
   ],
   "source": [
    "dowjones_stocks.info()"
   ]
  },
  {
   "cell_type": "code",
   "execution_count": 11,
   "metadata": {},
   "outputs": [
    {
     "data": {
      "text/html": [
       "<div>\n",
       "<style scoped>\n",
       "    .dataframe tbody tr th:only-of-type {\n",
       "        vertical-align: middle;\n",
       "    }\n",
       "\n",
       "    .dataframe tbody tr th {\n",
       "        vertical-align: top;\n",
       "    }\n",
       "\n",
       "    .dataframe thead th {\n",
       "        text-align: right;\n",
       "    }\n",
       "</style>\n",
       "<table border=\"1\" class=\"dataframe\">\n",
       "  <thead>\n",
       "    <tr style=\"text-align: right;\">\n",
       "      <th></th>\n",
       "      <th>Open</th>\n",
       "      <th>High</th>\n",
       "      <th>Low</th>\n",
       "      <th>Close</th>\n",
       "      <th>Adjusted_Close</th>\n",
       "      <th>Volume</th>\n",
       "    </tr>\n",
       "  </thead>\n",
       "  <tbody>\n",
       "    <tr>\n",
       "      <td>count</td>\n",
       "      <td>12.000000</td>\n",
       "      <td>12.000000</td>\n",
       "      <td>12.000000</td>\n",
       "      <td>12.000000</td>\n",
       "      <td>12.000000</td>\n",
       "      <td>1.200000e+01</td>\n",
       "    </tr>\n",
       "    <tr>\n",
       "      <td>mean</td>\n",
       "      <td>21576.639323</td>\n",
       "      <td>22090.152507</td>\n",
       "      <td>21334.914388</td>\n",
       "      <td>21937.621745</td>\n",
       "      <td>21937.621745</td>\n",
       "      <td>6.510095e+09</td>\n",
       "    </tr>\n",
       "    <tr>\n",
       "      <td>std</td>\n",
       "      <td>1332.002426</td>\n",
       "      <td>1458.599365</td>\n",
       "      <td>1321.564593</td>\n",
       "      <td>1503.771517</td>\n",
       "      <td>1503.771517</td>\n",
       "      <td>6.329533e+08</td>\n",
       "    </tr>\n",
       "    <tr>\n",
       "      <td>min</td>\n",
       "      <td>19872.859375</td>\n",
       "      <td>20125.580078</td>\n",
       "      <td>19677.939453</td>\n",
       "      <td>19864.089844</td>\n",
       "      <td>19864.089844</td>\n",
       "      <td>5.392630e+09</td>\n",
       "    </tr>\n",
       "    <tr>\n",
       "      <td>25%</td>\n",
       "      <td>20884.259278</td>\n",
       "      <td>21101.965332</td>\n",
       "      <td>20404.488281</td>\n",
       "      <td>20908.442383</td>\n",
       "      <td>20908.442383</td>\n",
       "      <td>6.176700e+09</td>\n",
       "    </tr>\n",
       "    <tr>\n",
       "      <td>50%</td>\n",
       "      <td>21211.425781</td>\n",
       "      <td>21732.415039</td>\n",
       "      <td>21136.760742</td>\n",
       "      <td>21620.375000</td>\n",
       "      <td>21620.375000</td>\n",
       "      <td>6.536170e+09</td>\n",
       "    </tr>\n",
       "    <tr>\n",
       "      <td>75%</td>\n",
       "      <td>22092.194824</td>\n",
       "      <td>22685.944824</td>\n",
       "      <td>21886.223144</td>\n",
       "      <td>22648.127441</td>\n",
       "      <td>22648.127441</td>\n",
       "      <td>7.010125e+09</td>\n",
       "    </tr>\n",
       "    <tr>\n",
       "      <td>max</td>\n",
       "      <td>24305.400391</td>\n",
       "      <td>24876.070313</td>\n",
       "      <td>23921.900391</td>\n",
       "      <td>24719.220703</td>\n",
       "      <td>24719.220703</td>\n",
       "      <td>7.335640e+09</td>\n",
       "    </tr>\n",
       "  </tbody>\n",
       "</table>\n",
       "</div>"
      ],
      "text/plain": [
       "               Open          High           Low         Close  Adjusted_Close  \\\n",
       "count     12.000000     12.000000     12.000000     12.000000       12.000000   \n",
       "mean   21576.639323  22090.152507  21334.914388  21937.621745    21937.621745   \n",
       "std     1332.002426   1458.599365   1321.564593   1503.771517     1503.771517   \n",
       "min    19872.859375  20125.580078  19677.939453  19864.089844    19864.089844   \n",
       "25%    20884.259278  21101.965332  20404.488281  20908.442383    20908.442383   \n",
       "50%    21211.425781  21732.415039  21136.760742  21620.375000    21620.375000   \n",
       "75%    22092.194824  22685.944824  21886.223144  22648.127441    22648.127441   \n",
       "max    24305.400391  24876.070313  23921.900391  24719.220703    24719.220703   \n",
       "\n",
       "             Volume  \n",
       "count  1.200000e+01  \n",
       "mean   6.510095e+09  \n",
       "std    6.329533e+08  \n",
       "min    5.392630e+09  \n",
       "25%    6.176700e+09  \n",
       "50%    6.536170e+09  \n",
       "75%    7.010125e+09  \n",
       "max    7.335640e+09  "
      ]
     },
     "execution_count": 11,
     "metadata": {},
     "output_type": "execute_result"
    }
   ],
   "source": [
    "dowjones_stocks.describe()"
   ]
  },
  {
   "cell_type": "markdown",
   "metadata": {},
   "source": [
    "#### Netflix Quarterly"
   ]
  },
  {
   "cell_type": "code",
   "execution_count": 12,
   "metadata": {},
   "outputs": [
    {
     "data": {
      "text/plain": [
       "(251, 8)"
      ]
     },
     "execution_count": 12,
     "metadata": {},
     "output_type": "execute_result"
    }
   ],
   "source": [
    "netflix_stocks_quarterly.shape"
   ]
  },
  {
   "cell_type": "code",
   "execution_count": 13,
   "metadata": {},
   "outputs": [
    {
     "name": "stdout",
     "output_type": "stream",
     "text": [
      "<class 'pandas.core.frame.DataFrame'>\n",
      "RangeIndex: 251 entries, 0 to 250\n",
      "Data columns (total 8 columns):\n",
      "Date              251 non-null object\n",
      "Open              251 non-null float64\n",
      "High              251 non-null float64\n",
      "Low               251 non-null float64\n",
      "Close             251 non-null float64\n",
      "Adjusted_Close    251 non-null float64\n",
      "Volume            251 non-null int64\n",
      "Quarter           251 non-null object\n",
      "dtypes: float64(5), int64(1), object(2)\n",
      "memory usage: 15.8+ KB\n"
     ]
    }
   ],
   "source": [
    "netflix_stocks_quarterly.info()"
   ]
  },
  {
   "cell_type": "code",
   "execution_count": 14,
   "metadata": {},
   "outputs": [
    {
     "data": {
      "text/html": [
       "<div>\n",
       "<style scoped>\n",
       "    .dataframe tbody tr th:only-of-type {\n",
       "        vertical-align: middle;\n",
       "    }\n",
       "\n",
       "    .dataframe tbody tr th {\n",
       "        vertical-align: top;\n",
       "    }\n",
       "\n",
       "    .dataframe thead th {\n",
       "        text-align: right;\n",
       "    }\n",
       "</style>\n",
       "<table border=\"1\" class=\"dataframe\">\n",
       "  <thead>\n",
       "    <tr style=\"text-align: right;\">\n",
       "      <th></th>\n",
       "      <th>Open</th>\n",
       "      <th>High</th>\n",
       "      <th>Low</th>\n",
       "      <th>Close</th>\n",
       "      <th>Adjusted_Close</th>\n",
       "      <th>Volume</th>\n",
       "    </tr>\n",
       "  </thead>\n",
       "  <tbody>\n",
       "    <tr>\n",
       "      <td>count</td>\n",
       "      <td>251.000000</td>\n",
       "      <td>251.000000</td>\n",
       "      <td>251.000000</td>\n",
       "      <td>251.000000</td>\n",
       "      <td>251.000000</td>\n",
       "      <td>2.510000e+02</td>\n",
       "    </tr>\n",
       "    <tr>\n",
       "      <td>mean</td>\n",
       "      <td>165.402311</td>\n",
       "      <td>167.048725</td>\n",
       "      <td>163.487012</td>\n",
       "      <td>165.374263</td>\n",
       "      <td>165.374263</td>\n",
       "      <td>6.589608e+06</td>\n",
       "    </tr>\n",
       "    <tr>\n",
       "      <td>std</td>\n",
       "      <td>21.311867</td>\n",
       "      <td>21.594081</td>\n",
       "      <td>20.968138</td>\n",
       "      <td>21.295641</td>\n",
       "      <td>21.295641</td>\n",
       "      <td>4.117679e+06</td>\n",
       "    </tr>\n",
       "    <tr>\n",
       "      <td>min</td>\n",
       "      <td>124.959999</td>\n",
       "      <td>128.190002</td>\n",
       "      <td>124.309998</td>\n",
       "      <td>127.489998</td>\n",
       "      <td>127.489998</td>\n",
       "      <td>2.160500e+06</td>\n",
       "    </tr>\n",
       "    <tr>\n",
       "      <td>25%</td>\n",
       "      <td>144.564995</td>\n",
       "      <td>145.750000</td>\n",
       "      <td>143.329994</td>\n",
       "      <td>144.245002</td>\n",
       "      <td>144.245002</td>\n",
       "      <td>4.500900e+06</td>\n",
       "    </tr>\n",
       "    <tr>\n",
       "      <td>50%</td>\n",
       "      <td>162.910004</td>\n",
       "      <td>163.929993</td>\n",
       "      <td>160.550003</td>\n",
       "      <td>162.429993</td>\n",
       "      <td>162.429993</td>\n",
       "      <td>5.518600e+06</td>\n",
       "    </tr>\n",
       "    <tr>\n",
       "      <td>75%</td>\n",
       "      <td>185.915001</td>\n",
       "      <td>188.120002</td>\n",
       "      <td>183.209999</td>\n",
       "      <td>185.594994</td>\n",
       "      <td>185.594994</td>\n",
       "      <td>7.145300e+06</td>\n",
       "    </tr>\n",
       "    <tr>\n",
       "      <td>max</td>\n",
       "      <td>201.949997</td>\n",
       "      <td>204.380005</td>\n",
       "      <td>198.089996</td>\n",
       "      <td>202.679993</td>\n",
       "      <td>202.679993</td>\n",
       "      <td>4.158740e+07</td>\n",
       "    </tr>\n",
       "  </tbody>\n",
       "</table>\n",
       "</div>"
      ],
      "text/plain": [
       "             Open        High         Low       Close  Adjusted_Close  \\\n",
       "count  251.000000  251.000000  251.000000  251.000000      251.000000   \n",
       "mean   165.402311  167.048725  163.487012  165.374263      165.374263   \n",
       "std     21.311867   21.594081   20.968138   21.295641       21.295641   \n",
       "min    124.959999  128.190002  124.309998  127.489998      127.489998   \n",
       "25%    144.564995  145.750000  143.329994  144.245002      144.245002   \n",
       "50%    162.910004  163.929993  160.550003  162.429993      162.429993   \n",
       "75%    185.915001  188.120002  183.209999  185.594994      185.594994   \n",
       "max    201.949997  204.380005  198.089996  202.679993      202.679993   \n",
       "\n",
       "             Volume  \n",
       "count  2.510000e+02  \n",
       "mean   6.589608e+06  \n",
       "std    4.117679e+06  \n",
       "min    2.160500e+06  \n",
       "25%    4.500900e+06  \n",
       "50%    5.518600e+06  \n",
       "75%    7.145300e+06  \n",
       "max    4.158740e+07  "
      ]
     },
     "execution_count": 14,
     "metadata": {},
     "output_type": "execute_result"
    }
   ],
   "source": [
    "netflix_stocks_quarterly.describe()"
   ]
  },
  {
   "cell_type": "markdown",
   "metadata": {},
   "source": [
    "Examine timeline represented in the data:"
   ]
  },
  {
   "cell_type": "code",
   "execution_count": 15,
   "metadata": {},
   "outputs": [
    {
     "data": {
      "text/plain": [
       "'2017-01-01'"
      ]
     },
     "execution_count": 15,
     "metadata": {},
     "output_type": "execute_result"
    }
   ],
   "source": [
    "#earliest date on Netflix and Dow Jones data\n",
    "netflix_stocks['Date'].min()"
   ]
  },
  {
   "cell_type": "code",
   "execution_count": 16,
   "metadata": {},
   "outputs": [
    {
     "data": {
      "text/plain": [
       "'2017-12-01'"
      ]
     },
     "execution_count": 16,
     "metadata": {},
     "output_type": "execute_result"
    }
   ],
   "source": [
    "#latest date on Netflix and Dow Jones data\n",
    "netflix_stocks['Date'].max()"
   ]
  },
  {
   "cell_type": "code",
   "execution_count": 17,
   "metadata": {},
   "outputs": [
    {
     "data": {
      "text/plain": [
       "'2017-01-03'"
      ]
     },
     "execution_count": 17,
     "metadata": {},
     "output_type": "execute_result"
    }
   ],
   "source": [
    "netflix_stocks_quarterly['Date'].min()"
   ]
  },
  {
   "cell_type": "code",
   "execution_count": 18,
   "metadata": {},
   "outputs": [
    {
     "data": {
      "text/plain": [
       "'2017-12-29'"
      ]
     },
     "execution_count": 18,
     "metadata": {},
     "output_type": "execute_result"
    }
   ],
   "source": [
    "netflix_stocks_quarterly['Date'].max()"
   ]
  },
  {
   "cell_type": "markdown",
   "metadata": {},
   "source": [
    "## Step 5. Visualize data - Netflix Quarters\n",
    "\n",
    "\n",
    "To get an understanding of the distribution of the Netflix quarterly stock prices for 2017, a violin plot for each quarter can be used to see fluctuation between quarters."
   ]
  },
  {
   "cell_type": "code",
   "execution_count": 19,
   "metadata": {
    "scrolled": false
   },
   "outputs": [
    {
     "data": {
      "image/png": "[encoded data removed]",
      "text/plain": [
       "<Figure size 720x504 with 1 Axes>"
      ]
     },
     "metadata": {
      "needs_background": "light"
     },
     "output_type": "display_data"
    }
   ],
   "source": [
    "fig = plt.subplots(figsize=(10,7))\n",
    "ax = sns.violinplot()\n",
    "sns.violinplot(\n",
    "    data = netflix_stocks_quarterly,\n",
    "    x = 'Quarter',\n",
    "    y = 'Adjusted_Close'\n",
    ")\n",
    "ax.set_title('Distribution of 2017 Netflix Stock Prices by Quarter')\n",
    "plt.xlabel('Business Quarters in 2017')\n",
    "plt.ylabel('Closing Stock Price');"
   ]
  },
  {
   "cell_type": "markdown",
   "metadata": {},
   "source": [
    " "
   ]
  },
  {
   "cell_type": "markdown",
   "metadata": {},
   "source": [
    "## Step 6. Visualize data - Actual vs. Estimated\n",
    "\n",
    "\n",
    "The chart below shows the performance of the earnings per share (EPS) by graphing the estimate Yahoo projected for the Quarter compared to the actual earnings for that quarters. "
   ]
  },
  {
   "cell_type": "code",
   "execution_count": 20,
   "metadata": {},
   "outputs": [
    {
     "data": {
      "image/png": "[encoded data removed]",
      "text/plain": [
       "<Figure size 432x288 with 1 Axes>"
      ]
     },
     "metadata": {
      "needs_background": "light"
     },
     "output_type": "display_data"
    }
   ],
   "source": [
    "x_positions = [1, 2, 3, 4]\n",
    "chart_labels = [\"1Q2017\",\"2Q2017\",\"3Q2017\",\"4Q2017\"]\n",
    "earnings_actual =[.4, .15,.29,.41]\n",
    "earnings_estimate = [.37,.15,.32,.41 ]\n",
    "\n",
    "plt.scatter(x_positions, earnings_actual, c='red', alpha=0.5)\n",
    "plt.scatter(x_positions, earnings_estimate, c='blue', alpha=0.5)\n",
    "plt.legend(['Actual','Estimate'], loc=3)\n",
    "plt.xticks(x_positions, chart_labels)\n",
    "plt.title('Earnings Per Share in Cents')\n",
    "plt.show()"
   ]
  },
  {
   "cell_type": "markdown",
   "metadata": {},
   "source": [
    " "
   ]
  },
  {
   "cell_type": "markdown",
   "metadata": {},
   "source": [
    "## Step 7. Visualize data - Revenue vs. Earnings"
   ]
  },
  {
   "cell_type": "markdown",
   "metadata": {},
   "source": [
    "Below is a visualization of the earnings and revenue reported by Netflix."
   ]
  },
  {
   "cell_type": "code",
   "execution_count": 21,
   "metadata": {},
   "outputs": [
    {
     "data": {
      "image/png": "[encoded data removed]",
      "text/plain": [
       "<Figure size 432x288 with 1 Axes>"
      ]
     },
     "metadata": {
      "needs_background": "light"
     },
     "output_type": "display_data"
    }
   ],
   "source": [
    "#metrics below are in billions of dollars\n",
    "revenue_by_quarter = [2.79,2.98,3.29,3.7]\n",
    "earnings_by_quarter = [.0656,.12959,.18552,.29012]\n",
    "quarter_labels = [\"2Q2017\",\"3Q2017\",\"4Q2017\", \"1Q2018\"]\n",
    "\n",
    "# Revenue\n",
    "n = 1  #first dataset\n",
    "t = 2 #total number of datasets\n",
    "d = len(revenue_by_quarter) #number of sets of bars\n",
    "w = 0.8 #bar width\n",
    "bars1_x = [t*element + w*n for element\n",
    "             in range(d)]\n",
    "plt.bar(bars1_x, revenue_by_quarter)\n",
    "\n",
    "\n",
    "# Earnings\n",
    "n = 2  #second dataset\n",
    "t = 2 #total number of datasets\n",
    "d = len(earnings_by_quarter) #number of sets of bars\n",
    "w = 0.8 #bar width\n",
    "bars2_x = [t*element + w*n for element\n",
    "             in range(d)]\n",
    "plt.bar(bars2_x, earnings_by_quarter)\n",
    "\n",
    "\n",
    "\n",
    "middle_x = [ (a + b) / 2.0 for a, b in zip(bars1_x, bars2_x)]\n",
    "plt.xticks(middle_x, quarter_labels)\n",
    "labels = [\"Revenue\", \"Earnings\"]\n",
    "plt.legend(labels)\n",
    "plt.show()"
   ]
  },
  {
   "cell_type": "markdown",
   "metadata": {},
   "source": [
    "## Step 8. Netflix vs. Dow Jones\n",
    "\n",
    "Netflix stock compared to the Dow Jones Industrial Average in 2017. "
   ]
  },
  {
   "cell_type": "code",
   "execution_count": 22,
   "metadata": {},
   "outputs": [
    {
     "data": {
      "image/png": "[encoded data removed]",
      "text/plain": [
       "<Figure size 432x288 with 2 Axes>"
      ]
     },
     "metadata": {
      "needs_background": "light"
     },
     "output_type": "display_data"
    }
   ],
   "source": [
    "#Netflix (left)\n",
    "ax1 = plt.subplot(1, 2, 1)\n",
    "plt.plot(netflix_stocks['Date'], netflix_stocks['Adjusted_Close'])\n",
    "ax1.set_title('Netflix')\n",
    "plt.xlabel('Date')\n",
    "plt.xticks(rotation=90)\n",
    "plt.ylabel('Close Price')\n",
    "\n",
    "#Dow Jones (right)\n",
    "ax2 = plt.subplot(1, 2, 2)\n",
    "plt.plot(dowjones_stocks['Date'], dowjones_stocks['Adjusted_Close'])\n",
    "ax2.set_title('Dow Jones')\n",
    "plt.xlabel('Date')\n",
    "plt.xticks(rotation=90)\n",
    "\n",
    "\n",
    "plt.subplots_adjust(wspace=.5)\n",
    "plt.show()"
   ]
  }
 ],
 "metadata": {
  "kernelspec": {
   "display_name": "Python 3",
   "language": "python",
   "name": "python3"
  },
  "language_info": {
   "codemirror_mode": {
    "name": "ipython",
    "version": 3
   },
   "file_extension": ".py",
   "mimetype": "text/x-python",
   "name": "python",
   "nbconvert_exporter": "python",
   "pygments_lexer": "ipython3",
   "version": "3.7.4"
  }
 },
 "nbformat": 4,
 "nbformat_minor": 2
}
